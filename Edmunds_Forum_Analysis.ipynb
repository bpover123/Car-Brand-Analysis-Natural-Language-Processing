{
  "nbformat": 4,
  "nbformat_minor": 0,
  "metadata": {
    "orig_nbformat": 4,
    "language_info": {
      "name": "python",
      "version": "3.9.5",
      "mimetype": "text/x-python",
      "codemirror_mode": {
        "name": "ipython",
        "version": 3
      },
      "pygments_lexer": "ipython3",
      "nbconvert_exporter": "python",
      "file_extension": ".py"
    },
    "kernelspec": {
      "name": "python3",
      "display_name": "Python 3.9.5 64-bit"
    },
    "interpreter": {
      "hash": "2647ea34e536f865ab67ff9ddee7fd78773d956cec0cab53c79b32cd10da5d83"
    },
    "colab": {
      "name": "hw1_Unstructured Data.ipynb",
      "provenance": [],
      "collapsed_sections": []
    }
  },
  "cells": [
    {
      "cell_type": "markdown",
      "metadata": {
        "id": "QoO4uF_bQzVt"
      },
      "source": [
        "# Analytics for Unstructured Data: Assignment 1"
      ]
    },
    {
      "cell_type": "markdown",
      "metadata": {
        "id": "ZuF-xEeXP-Wt"
      },
      "source": [
        "\n",
        "\n",
        "### Forum chosen: [Edmunds Forum](https://forums.edmunds.com/discussion/2864/general/x/entry-level-luxury-performance-sedans)\n",
        "\n",
        "\n",
        "\n"
      ]
    },
    {
      "cell_type": "markdown",
      "metadata": {
        "id": "acAz0HGBQqq2"
      },
      "source": [
        "## Basic Data Cleaning\n"
      ]
    },
    {
      "cell_type": "code",
      "metadata": {
        "id": "CdIYixBdslYG"
      },
      "source": [
        "import pandas as pd\n",
        "import nltk\n",
        "from nltk import word_tokenize\n",
        "from nltk import FreqDist\n",
        "from matplotlib import pyplot as plt\n",
        "import seaborn as sns; sns.set_theme()\n",
        "import numpy as np\n",
        "from nltk.corpus import stopwords\n",
        "import re\n",
        "import string\n",
        "%matplotlib inline\n",
        "\n",
        "\n",
        "# Read in the brand/model data andconvert it to a pandas series for easy lookup later on.\n",
        "car_brands = pd.read_csv('car models and brands.csv')\n",
        "car_brands = car_brands.set_index(keys='Model')\n",
        "car_brands = pd.Series(car_brands['Brand'], index=car_brands.index)\n",
        "\n",
        "# Read scraped data\n",
        "df = pd.read_csv('edmunds_data.csv')"
      ],
      "execution_count": null,
      "outputs": []
    },
    {
      "cell_type": "markdown",
      "metadata": {
        "id": "TGfwIoYtslYT"
      },
      "source": [
        "We need to ge the frequencies of all of the words, but we don't want to include punctuation so we need to do some brief cleaning first. We'll lower case all of the words, remove punctuation in both scraped data and car_brands file, and then we can get frequencies on this data."
      ]
    },
    {
      "cell_type": "code",
      "metadata": {
        "id": "EJ4MHKlfslYW",
        "outputId": "1ff58955-d0b9-4db0-9f3b-4f6893adedc9"
      },
      "source": [
        "# We do not want to remove apostraphes because that would cause issues for words with contractions. \n",
        "\n",
        "punctuation_chars_to_remove = string.punctuation.replace(\"'\",\"\")\n",
        "regex_pattern = \"[\" + punctuation_chars_to_remove + \"]\"\n",
        "regex_pattern"
      ],
      "execution_count": null,
      "outputs": [
        {
          "output_type": "execute_result",
          "data": {
            "text/plain": [
              "'[!\"#$%&()*+,-./:;<=>?@[\\\\]^_`{|}~]'"
            ]
          },
          "metadata": {},
          "execution_count": 7
        }
      ]
    },
    {
      "cell_type": "code",
      "metadata": {
        "id": "CqCQrDXGslYY"
      },
      "source": [
        "# Lower case and remove punctuation for comments and models!\n",
        "\n",
        "def clean_string(comment:str) -> str:\n",
        "    \"\"\"Send in a string and this function will lower case and strip out punctuation of the string.\"\"\"\n",
        "    return re.sub(regex_pattern,'', str(comment).lower())\n",
        "\n",
        "df['cleaned_comments'] = [clean_string(comment) for comment in df.Comment.values] \n",
        "car_brands.index = [clean_string(model) for model in car_brands.index] # Don't forget to clean models too. Some have hyphens"
      ],
      "execution_count": null,
      "outputs": []
    },
    {
      "cell_type": "code",
      "metadata": {
        "id": "owHkXRbAslYZ",
        "outputId": "11665699-3bc6-46a2-9b12-fa30cef624f3"
      },
      "source": [
        "df.head()"
      ],
      "execution_count": null,
      "outputs": [
        {
          "output_type": "execute_result",
          "data": {
            "text/html": [
              "<div>\n",
              "<style scoped>\n",
              "    .dataframe tbody tr th:only-of-type {\n",
              "        vertical-align: middle;\n",
              "    }\n",
              "\n",
              "    .dataframe tbody tr th {\n",
              "        vertical-align: top;\n",
              "    }\n",
              "\n",
              "    .dataframe thead th {\n",
              "        text-align: right;\n",
              "    }\n",
              "</style>\n",
              "<table border=\"1\" class=\"dataframe\">\n",
              "  <thead>\n",
              "    <tr style=\"text-align: right;\">\n",
              "      <th></th>\n",
              "      <th>Unnamed: 0</th>\n",
              "      <th>Date</th>\n",
              "      <th>Comment</th>\n",
              "      <th>cleaned_comments</th>\n",
              "    </tr>\n",
              "  </thead>\n",
              "  <tbody>\n",
              "    <tr>\n",
              "      <th>0</th>\n",
              "      <td>0</td>\n",
              "      <td>March 24, 2002 10:54PM</td>\n",
              "      <td>I personally think that with a few tweaks the ...</td>\n",
              "      <td>i personally think that with a few tweaks the ...</td>\n",
              "    </tr>\n",
              "    <tr>\n",
              "      <th>1</th>\n",
              "      <td>1</td>\n",
              "      <td>March 25, 2002 12:06AM</td>\n",
              "      <td>I am debating a new purchase and these two are...</td>\n",
              "      <td>i am debating a new purchase and these two are...</td>\n",
              "    </tr>\n",
              "    <tr>\n",
              "      <th>2</th>\n",
              "      <td>2</td>\n",
              "      <td>March 25, 2002 10:02AM</td>\n",
              "      <td>Great handling, RWD, excellent engine and the ...</td>\n",
              "      <td>great handling rwd excellent engine and the be...</td>\n",
              "    </tr>\n",
              "    <tr>\n",
              "      <th>3</th>\n",
              "      <td>3</td>\n",
              "      <td>March 25, 2002 4:04PM</td>\n",
              "      <td>And no manual tranny. That may not matter to y...</td>\n",
              "      <td>and no manual tranny that may not matter to yo...</td>\n",
              "    </tr>\n",
              "    <tr>\n",
              "      <th>4</th>\n",
              "      <td>4</td>\n",
              "      <td>March 25, 2002 5:44PM</td>\n",
              "      <td>One beauty of BMW 3 Series is that there are s...</td>\n",
              "      <td>one beauty of bmw 3 series is that there are s...</td>\n",
              "    </tr>\n",
              "  </tbody>\n",
              "</table>\n",
              "</div>"
            ],
            "text/plain": [
              "   Unnamed: 0                    Date  \\\n",
              "0           0  March 24, 2002 10:54PM   \n",
              "1           1  March 25, 2002 12:06AM   \n",
              "2           2  March 25, 2002 10:02AM   \n",
              "3           3   March 25, 2002 4:04PM   \n",
              "4           4   March 25, 2002 5:44PM   \n",
              "\n",
              "                                             Comment  \\\n",
              "0  I personally think that with a few tweaks the ...   \n",
              "1  I am debating a new purchase and these two are...   \n",
              "2  Great handling, RWD, excellent engine and the ...   \n",
              "3  And no manual tranny. That may not matter to y...   \n",
              "4  One beauty of BMW 3 Series is that there are s...   \n",
              "\n",
              "                                    cleaned_comments  \n",
              "0  i personally think that with a few tweaks the ...  \n",
              "1  i am debating a new purchase and these two are...  \n",
              "2  great handling rwd excellent engine and the be...  \n",
              "3  and no manual tranny that may not matter to yo...  \n",
              "4  one beauty of bmw 3 series is that there are s...  "
            ]
          },
          "metadata": {},
          "execution_count": 9
        }
      ]
    },
    {
      "cell_type": "code",
      "metadata": {
        "id": "i6CbqPyFslYa"
      },
      "source": [
        "# To get frequency distribution of entire corpus, we combine all comments into one string, tokenize that string with nltk, and\n",
        "# put the string into a df for easy manipulation.\n",
        "\n",
        "all_text = df['cleaned_comments'].str.cat(sep=' ') # Join comments into one big string.\n",
        "all_text_tokenized = word_tokenize(all_text)\n",
        "freq_distribution = FreqDist(all_text_tokenized)\n",
        "\n",
        "# Create a dataframe containing the words and their counts.\n",
        "wf_df = pd.DataFrame(freq_distribution.most_common(len(freq_distribution)),columns=['word','actual_count'])\n",
        "wf_df['freq*rank'] = wf_df['actual_count'] * (wf_df.index + 1) # Should be constant based on Zipf's law?"
      ],
      "execution_count": null,
      "outputs": []
    },
    {
      "cell_type": "code",
      "metadata": {
        "id": "p2LER5pgslYb",
        "outputId": "40a42b48-2682-4a5f-b3ca-0b4b9e1eca14"
      },
      "source": [
        "wf_df.head()"
      ],
      "execution_count": null,
      "outputs": [
        {
          "output_type": "execute_result",
          "data": {
            "text/html": [
              "<div>\n",
              "<style scoped>\n",
              "    .dataframe tbody tr th:only-of-type {\n",
              "        vertical-align: middle;\n",
              "    }\n",
              "\n",
              "    .dataframe tbody tr th {\n",
              "        vertical-align: top;\n",
              "    }\n",
              "\n",
              "    .dataframe thead th {\n",
              "        text-align: right;\n",
              "    }\n",
              "</style>\n",
              "<table border=\"1\" class=\"dataframe\">\n",
              "  <thead>\n",
              "    <tr style=\"text-align: right;\">\n",
              "      <th></th>\n",
              "      <th>word</th>\n",
              "      <th>actual_count</th>\n",
              "      <th>freq*rank</th>\n",
              "    </tr>\n",
              "  </thead>\n",
              "  <tbody>\n",
              "    <tr>\n",
              "      <th>0</th>\n",
              "      <td>the</td>\n",
              "      <td>26714</td>\n",
              "      <td>26714</td>\n",
              "    </tr>\n",
              "    <tr>\n",
              "      <th>1</th>\n",
              "      <td>i</td>\n",
              "      <td>12387</td>\n",
              "      <td>24774</td>\n",
              "    </tr>\n",
              "    <tr>\n",
              "      <th>2</th>\n",
              "      <td>a</td>\n",
              "      <td>12067</td>\n",
              "      <td>36201</td>\n",
              "    </tr>\n",
              "    <tr>\n",
              "      <th>3</th>\n",
              "      <td>and</td>\n",
              "      <td>10651</td>\n",
              "      <td>42604</td>\n",
              "    </tr>\n",
              "    <tr>\n",
              "      <th>4</th>\n",
              "      <td>to</td>\n",
              "      <td>9884</td>\n",
              "      <td>49420</td>\n",
              "    </tr>\n",
              "  </tbody>\n",
              "</table>\n",
              "</div>"
            ],
            "text/plain": [
              "  word  actual_count  freq*rank\n",
              "0  the         26714      26714\n",
              "1    i         12387      24774\n",
              "2    a         12067      36201\n",
              "3  and         10651      42604\n",
              "4   to          9884      49420"
            ]
          },
          "metadata": {},
          "execution_count": 10
        }
      ]
    },
    {
      "cell_type": "markdown",
      "metadata": {
        "id": "usAAkg_fslYd"
      },
      "source": [
        "## Task A: Zipf's Law"
      ]
    },
    {
      "cell_type": "markdown",
      "metadata": {
        "id": "OBfqv_CMslYf"
      },
      "source": [
        "To understand if Zipf's law holds for this corpus we examine the data in two ways:\n",
        "\n",
        "1.  We estimate the regression of: $$ ln(freq) = \\beta_0 + \\beta_1*ln(rank) + \\epsilon$$ and examine if coefficient on $\\beta_1$ is -1 as it should be if Zipf's law holds. \n",
        "   <br><br>\n",
        "2.  We plot the the rank, frequncy combinations of the words that appear in all of these comments against the theoritcal line implied by Zipf's law and examine the fit."
      ]
    },
    {
      "cell_type": "code",
      "metadata": {
        "id": "Mse3dTKJslYg",
        "outputId": "ef7af45e-96e9-4370-d695-8c0e432baf1b"
      },
      "source": [
        "from sklearn.linear_model import LinearRegression\n",
        "\n",
        "model = LinearRegression()\n",
        "\n",
        "# Get log ranks and counts for top 100 words\n",
        "log_ranks = np.array(np.log(range(1,len(wf_df)+1))).reshape((-1,1))[:100]\n",
        "log_counts = np.log(wf_df['actual_count'])[:100]\n",
        "theoretical_freqs = theoretical_freqs = (log_counts[0] + -1 * log_ranks) # Based on above formula. intercept is the natural log of most frequent word and beta_1 is negative 1\n",
        "\n",
        "# Fit regression and get predicitions\n",
        "model.fit(log_ranks,log_counts)\n",
        "freqs_predicted = model.predict(log_ranks)\n",
        "\n",
        "# Plot points and theoretical line\n",
        "plt.scatter(log_ranks,log_counts, label='Actual Frequencies')\n",
        "plt.plot(log_ranks,freqs_predicted,color='red',label='Predicted Frequencies')\n",
        "# plt.plot(log_ranks,theoretical_freqs,color='green',label='Theoretical Frequencies')\n",
        "plt.title(\"Zipf's Law\")\n",
        "plt.xlabel('Log rank')\n",
        "plt.ylabel('Log Counts')\n",
        "plt.legend()\n"
      ],
      "execution_count": null,
      "outputs": [
        {
          "output_type": "execute_result",
          "data": {
            "text/plain": [
              "<matplotlib.legend.Legend at 0x180f63abd90>"
            ]
          },
          "metadata": {},
          "execution_count": 11
        },
        {
          "output_type": "display_data",
          "data": {
            "image/png": "[encoded data removed]",
            "text/plain": [
              "<Figure size 432x288 with 1 Axes>"
            ]
          },
          "metadata": {
            "needs_background": "light"
          }
        }
      ]
    },
    {
      "cell_type": "markdown",
      "metadata": {
        "id": "JR-og-ICslYi"
      },
      "source": [
        "We can see that our frequencies tend to be a bit higher than would be predicted.\n",
        "<br><br>\n",
        "We can also see this by examining the regression coefficient below. The coefficient depicted below further confirms the above plot by showing us that while our word frequencies to follow Zipf's law to an extent, the magnitude of the decrease is not as strong as Zipf's law would have predicted."
      ]
    },
    {
      "cell_type": "code",
      "metadata": {
        "id": "XvJRvcdZslYm",
        "outputId": "b1cc7e57-0cc6-4586-c8cf-b43f5b3d229e"
      },
      "source": [
        "print(f'Beta_1 coefficient of regression is: {model.coef_[0]}')"
      ],
      "execution_count": null,
      "outputs": [
        {
          "output_type": "stream",
          "name": "stdout",
          "text": [
            "Beta_1 coefficient of regression is: -0.8705266531257411\n"
          ]
        }
      ]
    },
    {
      "cell_type": "markdown",
      "metadata": {
        "id": "G1CUE7lOslYn"
      },
      "source": [
        "## Task B: Top 10 Brands"
      ]
    },
    {
      "cell_type": "code",
      "metadata": {
        "id": "ziOM5bq1slYo",
        "outputId": "de4923ff-37ad-4255-fc0d-83eed4503aa6"
      },
      "source": [
        "# To get brand frequencies, we will remove stop words and also replace models with their respective brands.\n",
        "\n",
        "my_stopwords = stopwords.words('english')\n",
        "\n",
        "def replace_models(word:str):\n",
        "    \"\"\"Send in a word. If that word is in our models, then return the appropriate brand. If it's not, then just return the word.\"\"\"\n",
        "    if word in car_brands:\n",
        "        if len(car_brands[word]) >1: # If their are two possible brands, pick the first one.\n",
        "            return str(car_brands[word][0])\n",
        "        else:\n",
        "            return str(car_brands[word])\n",
        "    else:\n",
        "        return word\n",
        "\n",
        "# Function to clean each comment individually because we need it that way later.\n",
        "def clean_comment_list(comments_list):\n",
        "    \"\"\"Send in a list of comments and output the same list of comments, but with the models replaced with brands\"\"\"\n",
        "\n",
        "    updated_list = []\n",
        "    for comment in comments_list:\n",
        "        word_list = comment.split(' ') # split on space. Can't tokenize because then I would rejoin contractions with spaces. maybe not a problem?\n",
        "        cleaned_comment = ' '.join([replace_models(word) for word in word_list if word not in my_stopwords]) # Clean word and then rejoin \n",
        "        updated_list.append(cleaned_comment)\n",
        "\n",
        "    return updated_list\n",
        "    \n",
        "\n",
        "# Add these further cleaned comments to our original dataframe\n",
        "df['clean_comments_no_models_or_stops'] =  clean_comment_list(df.cleaned_comments)\n",
        "\n",
        "# To get word frequencies, we combine all of the comments into one text string, process that string with nltk's tokenizer, and\n",
        "# store results in a dataframe for easy manipulation\n",
        "clean_tokens = word_tokenize(df['clean_comments_no_models_or_stops'].str.cat(sep=' ')) \n",
        "cleaned_freq_distribution = FreqDist(clean_tokens)\n",
        "df_freq = pd.DataFrame(cleaned_freq_distribution.most_common(len(cleaned_freq_distribution)),columns=['word','word_count'])\n",
        "\n",
        "\n",
        "# Now we want to create a separate susbet of the above dataframe that only contains brands\n",
        "brand_words_to_remove = ['seat','car', 'problem','sedan'] # Removing words from our model series that showed up as models, but are not actually models.\n",
        "brands = car_brands.unique()\n",
        "brands_only_df = df_freq[df_freq.word.isin(brands) & ~df_freq.word.isin(brand_words_to_remove)]\n",
        "top_10_brands = list(brands_only_df['word'][:10].to_numpy()) # Store top 10 brands for later use. Make it a list because a later function needs it as a list.\n",
        "\n",
        "print(brands_only_df.iloc[:10])"
      ],
      "execution_count": null,
      "outputs": [
        {
          "output_type": "stream",
          "name": "stdout",
          "text": [
            "         word  word_count\n",
            "4         bmw        1948\n",
            "48      acura         541\n",
            "69   infiniti         468\n",
            "89       audi         377\n",
            "168    toyota         254\n",
            "183     honda         243\n",
            "195    nissan         233\n",
            "254  mercedes         188\n",
            "285     volvo         167\n",
            "311    subaru         147\n"
          ]
        }
      ]
    },
    {
      "cell_type": "markdown",
      "metadata": {
        "id": "Oee1eYYAslYp"
      },
      "source": [
        "## Task C: Lifts Between Brands"
      ]
    },
    {
      "cell_type": "code",
      "metadata": {
        "id": "MPeZ_vycslYp",
        "outputId": "a351c28b-e33e-4ce3-febc-bcdff0722ae4"
      },
      "source": [
        "# We need to calculate lifts. Big task.\n",
        "\n",
        "# First we want to put all of the unique words into a df with words as columns\n",
        "# In this data frame, each row represents a comment and each column a word.\n",
        "# It will initially be filled with all zeroes which will be filled in with a loop in a bit.\n",
        "\n",
        "all_words = set(df_freq['word']) # unique words\n",
        "df_words = pd.DataFrame(np.zeros((len(df),len(all_words)))) \n",
        "df_words.columns = all_words\n",
        "\n",
        "# Now, we will loop through each comment and word within that comment and add ones to that comment in the word column corresponding to that word. \n",
        "# Be aware this may take like 20 seconds to run!!\n",
        "for index, comment in enumerate(df['clean_comments_no_models_or_stops']):\n",
        "    word_list = word_tokenize(comment)\n",
        "    for word in word_list:\n",
        "        df_words.loc[index,word] = 1\n",
        "df_words.head()"
      ],
      "execution_count": null,
      "outputs": [
        {
          "output_type": "execute_result",
          "data": {
            "text/html": [
              "<div>\n",
              "<style scoped>\n",
              "    .dataframe tbody tr th:only-of-type {\n",
              "        vertical-align: middle;\n",
              "    }\n",
              "\n",
              "    .dataframe tbody tr th {\n",
              "        vertical-align: top;\n",
              "    }\n",
              "\n",
              "    .dataframe thead th {\n",
              "        text-align: right;\n",
              "    }\n",
              "</style>\n",
              "<table border=\"1\" class=\"dataframe\">\n",
              "  <thead>\n",
              "    <tr style=\"text-align: right;\">\n",
              "      <th></th>\n",
              "      <th>nearentry</th>\n",
              "      <th>pm</th>\n",
              "      <th>vitural</th>\n",
              "      <th>lied</th>\n",
              "      <th>planet</th>\n",
              "      <th>thoand</th>\n",
              "      <th>backup</th>\n",
              "      <th>germanjapan</th>\n",
              "      <th>marvin</th>\n",
              "      <th>blazes</th>\n",
              "      <th>...</th>\n",
              "      <th>characature</th>\n",
              "      <th>v6'</th>\n",
              "      <th>pump</th>\n",
              "      <th>sneaking</th>\n",
              "      <th>51k</th>\n",
              "      <th>525both</th>\n",
              "      <th>facelift</th>\n",
              "      <th>trims</th>\n",
              "      <th>steer</th>\n",
              "      <th>displays</th>\n",
              "    </tr>\n",
              "  </thead>\n",
              "  <tbody>\n",
              "    <tr>\n",
              "      <th>0</th>\n",
              "      <td>0.0</td>\n",
              "      <td>0.0</td>\n",
              "      <td>0.0</td>\n",
              "      <td>0.0</td>\n",
              "      <td>0.0</td>\n",
              "      <td>0.0</td>\n",
              "      <td>0.0</td>\n",
              "      <td>0.0</td>\n",
              "      <td>0.0</td>\n",
              "      <td>0.0</td>\n",
              "      <td>...</td>\n",
              "      <td>0.0</td>\n",
              "      <td>0.0</td>\n",
              "      <td>0.0</td>\n",
              "      <td>0.0</td>\n",
              "      <td>0.0</td>\n",
              "      <td>0.0</td>\n",
              "      <td>1.0</td>\n",
              "      <td>0.0</td>\n",
              "      <td>0.0</td>\n",
              "      <td>0.0</td>\n",
              "    </tr>\n",
              "    <tr>\n",
              "      <th>1</th>\n",
              "      <td>0.0</td>\n",
              "      <td>0.0</td>\n",
              "      <td>0.0</td>\n",
              "      <td>0.0</td>\n",
              "      <td>0.0</td>\n",
              "      <td>0.0</td>\n",
              "      <td>0.0</td>\n",
              "      <td>0.0</td>\n",
              "      <td>0.0</td>\n",
              "      <td>0.0</td>\n",
              "      <td>...</td>\n",
              "      <td>0.0</td>\n",
              "      <td>0.0</td>\n",
              "      <td>0.0</td>\n",
              "      <td>0.0</td>\n",
              "      <td>0.0</td>\n",
              "      <td>0.0</td>\n",
              "      <td>0.0</td>\n",
              "      <td>0.0</td>\n",
              "      <td>0.0</td>\n",
              "      <td>0.0</td>\n",
              "    </tr>\n",
              "    <tr>\n",
              "      <th>2</th>\n",
              "      <td>0.0</td>\n",
              "      <td>0.0</td>\n",
              "      <td>0.0</td>\n",
              "      <td>0.0</td>\n",
              "      <td>0.0</td>\n",
              "      <td>0.0</td>\n",
              "      <td>0.0</td>\n",
              "      <td>0.0</td>\n",
              "      <td>0.0</td>\n",
              "      <td>0.0</td>\n",
              "      <td>...</td>\n",
              "      <td>0.0</td>\n",
              "      <td>0.0</td>\n",
              "      <td>0.0</td>\n",
              "      <td>0.0</td>\n",
              "      <td>0.0</td>\n",
              "      <td>0.0</td>\n",
              "      <td>0.0</td>\n",
              "      <td>0.0</td>\n",
              "      <td>0.0</td>\n",
              "      <td>0.0</td>\n",
              "    </tr>\n",
              "    <tr>\n",
              "      <th>3</th>\n",
              "      <td>0.0</td>\n",
              "      <td>0.0</td>\n",
              "      <td>0.0</td>\n",
              "      <td>0.0</td>\n",
              "      <td>0.0</td>\n",
              "      <td>0.0</td>\n",
              "      <td>0.0</td>\n",
              "      <td>0.0</td>\n",
              "      <td>0.0</td>\n",
              "      <td>0.0</td>\n",
              "      <td>...</td>\n",
              "      <td>0.0</td>\n",
              "      <td>0.0</td>\n",
              "      <td>0.0</td>\n",
              "      <td>0.0</td>\n",
              "      <td>0.0</td>\n",
              "      <td>0.0</td>\n",
              "      <td>0.0</td>\n",
              "      <td>0.0</td>\n",
              "      <td>0.0</td>\n",
              "      <td>0.0</td>\n",
              "    </tr>\n",
              "    <tr>\n",
              "      <th>4</th>\n",
              "      <td>0.0</td>\n",
              "      <td>0.0</td>\n",
              "      <td>0.0</td>\n",
              "      <td>0.0</td>\n",
              "      <td>0.0</td>\n",
              "      <td>0.0</td>\n",
              "      <td>0.0</td>\n",
              "      <td>0.0</td>\n",
              "      <td>0.0</td>\n",
              "      <td>0.0</td>\n",
              "      <td>...</td>\n",
              "      <td>0.0</td>\n",
              "      <td>0.0</td>\n",
              "      <td>0.0</td>\n",
              "      <td>0.0</td>\n",
              "      <td>0.0</td>\n",
              "      <td>0.0</td>\n",
              "      <td>0.0</td>\n",
              "      <td>0.0</td>\n",
              "      <td>0.0</td>\n",
              "      <td>0.0</td>\n",
              "    </tr>\n",
              "  </tbody>\n",
              "</table>\n",
              "<p>5 rows × 20642 columns</p>\n",
              "</div>"
            ],
            "text/plain": [
              "   nearentry   pm  vitural  lied  planet  thoand  backup  germanjapan  marvin  \\\n",
              "0        0.0  0.0      0.0   0.0     0.0     0.0     0.0          0.0     0.0   \n",
              "1        0.0  0.0      0.0   0.0     0.0     0.0     0.0          0.0     0.0   \n",
              "2        0.0  0.0      0.0   0.0     0.0     0.0     0.0          0.0     0.0   \n",
              "3        0.0  0.0      0.0   0.0     0.0     0.0     0.0          0.0     0.0   \n",
              "4        0.0  0.0      0.0   0.0     0.0     0.0     0.0          0.0     0.0   \n",
              "\n",
              "   blazes  ...  characature  v6'  pump  sneaking  51k  525both  facelift  \\\n",
              "0     0.0  ...          0.0  0.0   0.0       0.0  0.0      0.0       1.0   \n",
              "1     0.0  ...          0.0  0.0   0.0       0.0  0.0      0.0       0.0   \n",
              "2     0.0  ...          0.0  0.0   0.0       0.0  0.0      0.0       0.0   \n",
              "3     0.0  ...          0.0  0.0   0.0       0.0  0.0      0.0       0.0   \n",
              "4     0.0  ...          0.0  0.0   0.0       0.0  0.0      0.0       0.0   \n",
              "\n",
              "   trims  steer  displays  \n",
              "0    0.0    0.0       0.0  \n",
              "1    0.0    0.0       0.0  \n",
              "2    0.0    0.0       0.0  \n",
              "3    0.0    0.0       0.0  \n",
              "4    0.0    0.0       0.0  \n",
              "\n",
              "[5 rows x 20642 columns]"
            ]
          },
          "metadata": {},
          "execution_count": 15
        }
      ]
    },
    {
      "cell_type": "code",
      "metadata": {
        "id": "MdUTZ3WpslYq"
      },
      "source": [
        "def calculate_lifts(word_list_one, word_list_two, df_words):\n",
        "    \"\"\"Make sure you only send in a python lists to the first two arguments!\n",
        "    This function needs to list, the rows and columns of the words you want to calculate lifts between.\n",
        "    It also needs a dataframe of words like we made in the above cell where each row represents a document/comment and each column represents\n",
        "    a word. The words in your word list must be included in the columns of df_words.\n",
        "    \"\"\"\n",
        "    relevant_words = sorted(list(set(word_list_one + word_list_two))) # sort it to make sure we get same df order everytime\n",
        "    df_relevant_words = df_words[relevant_words] # only want to do calculations on dataframe containing the words in our list\n",
        "    lift_df = pd.DataFrame(np.zeros((len(word_list_one),len(word_list_two))),columns=word_list_two,index=word_list_one) # Crreate zeroes that we will fill in with lift values\n",
        "\n",
        "    total_comments = len(df_relevant_words) # Count how many columns there are. Needed for lift formula\n",
        "\n",
        "    # Now to loop through each of our words, calculate their lift values and put it into the lift_df\n",
        "    for word in word_list_one:\n",
        "        for other_word in word_list_two:\n",
        "            if word != other_word: \n",
        "                count_of_word = df_relevant_words[word].sum() # #(A)\n",
        "                count_of_other_word = df_relevant_words[other_word].sum() #  #(B)\n",
        "                count_of_word_and_other_word = sum((df_relevant_words[word] == 1) & (df_relevant_words[other_word] == 1)) # #(A,B)\n",
        "\n",
        "                lift_value = (total_comments * count_of_word_and_other_word) / (count_of_word * count_of_other_word)\n",
        "                lift_df.loc[word, other_word] = lift_value\n",
        "\n",
        "    return lift_df\n"
      ],
      "execution_count": null,
      "outputs": []
    },
    {
      "cell_type": "code",
      "metadata": {
        "id": "gFQ8O0HYslYr",
        "outputId": "083586a0-23b6-490f-fd03-164e6c234d6d"
      },
      "source": [
        "# Calculate and display lifts between brands\n",
        "brand_lifts = calculate_lifts(top_10_brands, top_10_brands, df_words)\n",
        "brand_lifts\n"
      ],
      "execution_count": null,
      "outputs": [
        {
          "output_type": "execute_result",
          "data": {
            "text/html": [
              "<div>\n",
              "<style scoped>\n",
              "    .dataframe tbody tr th:only-of-type {\n",
              "        vertical-align: middle;\n",
              "    }\n",
              "\n",
              "    .dataframe tbody tr th {\n",
              "        vertical-align: top;\n",
              "    }\n",
              "\n",
              "    .dataframe thead th {\n",
              "        text-align: right;\n",
              "    }\n",
              "</style>\n",
              "<table border=\"1\" class=\"dataframe\">\n",
              "  <thead>\n",
              "    <tr style=\"text-align: right;\">\n",
              "      <th></th>\n",
              "      <th>bmw</th>\n",
              "      <th>acura</th>\n",
              "      <th>infiniti</th>\n",
              "      <th>audi</th>\n",
              "      <th>toyota</th>\n",
              "      <th>honda</th>\n",
              "      <th>nissan</th>\n",
              "      <th>mercedes</th>\n",
              "      <th>volvo</th>\n",
              "      <th>subaru</th>\n",
              "    </tr>\n",
              "  </thead>\n",
              "  <tbody>\n",
              "    <tr>\n",
              "      <th>bmw</th>\n",
              "      <td>0.000000</td>\n",
              "      <td>2.016972</td>\n",
              "      <td>2.399880</td>\n",
              "      <td>2.473610</td>\n",
              "      <td>1.451696</td>\n",
              "      <td>1.397663</td>\n",
              "      <td>1.561807</td>\n",
              "      <td>2.166378</td>\n",
              "      <td>1.808455</td>\n",
              "      <td>1.417257</td>\n",
              "    </tr>\n",
              "    <tr>\n",
              "      <th>acura</th>\n",
              "      <td>2.016972</td>\n",
              "      <td>0.000000</td>\n",
              "      <td>4.277160</td>\n",
              "      <td>3.358710</td>\n",
              "      <td>1.967904</td>\n",
              "      <td>3.774035</td>\n",
              "      <td>2.649215</td>\n",
              "      <td>2.651204</td>\n",
              "      <td>3.855215</td>\n",
              "      <td>3.337784</td>\n",
              "    </tr>\n",
              "    <tr>\n",
              "      <th>infiniti</th>\n",
              "      <td>2.399880</td>\n",
              "      <td>4.277160</td>\n",
              "      <td>0.000000</td>\n",
              "      <td>3.973870</td>\n",
              "      <td>1.080314</td>\n",
              "      <td>1.690168</td>\n",
              "      <td>4.177691</td>\n",
              "      <td>2.702927</td>\n",
              "      <td>3.124186</td>\n",
              "      <td>3.217863</td>\n",
              "    </tr>\n",
              "    <tr>\n",
              "      <th>audi</th>\n",
              "      <td>2.473610</td>\n",
              "      <td>3.358710</td>\n",
              "      <td>3.973870</td>\n",
              "      <td>0.000000</td>\n",
              "      <td>1.312090</td>\n",
              "      <td>1.564027</td>\n",
              "      <td>2.008457</td>\n",
              "      <td>4.040404</td>\n",
              "      <td>6.482213</td>\n",
              "      <td>3.568394</td>\n",
              "    </tr>\n",
              "    <tr>\n",
              "      <th>toyota</th>\n",
              "      <td>1.451696</td>\n",
              "      <td>1.967904</td>\n",
              "      <td>1.080314</td>\n",
              "      <td>1.312090</td>\n",
              "      <td>0.000000</td>\n",
              "      <td>7.621106</td>\n",
              "      <td>6.143611</td>\n",
              "      <td>2.326747</td>\n",
              "      <td>2.913492</td>\n",
              "      <td>2.890452</td>\n",
              "    </tr>\n",
              "    <tr>\n",
              "      <th>honda</th>\n",
              "      <td>1.397663</td>\n",
              "      <td>3.774035</td>\n",
              "      <td>1.690168</td>\n",
              "      <td>1.564027</td>\n",
              "      <td>7.621106</td>\n",
              "      <td>0.000000</td>\n",
              "      <td>8.127032</td>\n",
              "      <td>1.866786</td>\n",
              "      <td>3.740065</td>\n",
              "      <td>2.261079</td>\n",
              "    </tr>\n",
              "    <tr>\n",
              "      <th>nissan</th>\n",
              "      <td>1.561807</td>\n",
              "      <td>2.649215</td>\n",
              "      <td>4.177691</td>\n",
              "      <td>2.008457</td>\n",
              "      <td>6.143611</td>\n",
              "      <td>8.127032</td>\n",
              "      <td>0.000000</td>\n",
              "      <td>2.018734</td>\n",
              "      <td>4.802831</td>\n",
              "      <td>2.445121</td>\n",
              "    </tr>\n",
              "    <tr>\n",
              "      <th>mercedes</th>\n",
              "      <td>2.166378</td>\n",
              "      <td>2.651204</td>\n",
              "      <td>2.702927</td>\n",
              "      <td>4.040404</td>\n",
              "      <td>2.326747</td>\n",
              "      <td>1.866786</td>\n",
              "      <td>2.018734</td>\n",
              "      <td>0.000000</td>\n",
              "      <td>6.340580</td>\n",
              "      <td>1.298027</td>\n",
              "    </tr>\n",
              "    <tr>\n",
              "      <th>volvo</th>\n",
              "      <td>1.808455</td>\n",
              "      <td>3.855215</td>\n",
              "      <td>3.124186</td>\n",
              "      <td>6.482213</td>\n",
              "      <td>2.913492</td>\n",
              "      <td>3.740065</td>\n",
              "      <td>4.802831</td>\n",
              "      <td>6.340580</td>\n",
              "      <td>0.000000</td>\n",
              "      <td>7.314100</td>\n",
              "    </tr>\n",
              "    <tr>\n",
              "      <th>subaru</th>\n",
              "      <td>1.417257</td>\n",
              "      <td>3.337784</td>\n",
              "      <td>3.217863</td>\n",
              "      <td>3.568394</td>\n",
              "      <td>2.890452</td>\n",
              "      <td>2.261079</td>\n",
              "      <td>2.445121</td>\n",
              "      <td>1.298027</td>\n",
              "      <td>7.314100</td>\n",
              "      <td>0.000000</td>\n",
              "    </tr>\n",
              "  </tbody>\n",
              "</table>\n",
              "</div>"
            ],
            "text/plain": [
              "               bmw     acura  infiniti      audi    toyota     honda  \\\n",
              "bmw       0.000000  2.016972  2.399880  2.473610  1.451696  1.397663   \n",
              "acura     2.016972  0.000000  4.277160  3.358710  1.967904  3.774035   \n",
              "infiniti  2.399880  4.277160  0.000000  3.973870  1.080314  1.690168   \n",
              "audi      2.473610  3.358710  3.973870  0.000000  1.312090  1.564027   \n",
              "toyota    1.451696  1.967904  1.080314  1.312090  0.000000  7.621106   \n",
              "honda     1.397663  3.774035  1.690168  1.564027  7.621106  0.000000   \n",
              "nissan    1.561807  2.649215  4.177691  2.008457  6.143611  8.127032   \n",
              "mercedes  2.166378  2.651204  2.702927  4.040404  2.326747  1.866786   \n",
              "volvo     1.808455  3.855215  3.124186  6.482213  2.913492  3.740065   \n",
              "subaru    1.417257  3.337784  3.217863  3.568394  2.890452  2.261079   \n",
              "\n",
              "            nissan  mercedes     volvo    subaru  \n",
              "bmw       1.561807  2.166378  1.808455  1.417257  \n",
              "acura     2.649215  2.651204  3.855215  3.337784  \n",
              "infiniti  4.177691  2.702927  3.124186  3.217863  \n",
              "audi      2.008457  4.040404  6.482213  3.568394  \n",
              "toyota    6.143611  2.326747  2.913492  2.890452  \n",
              "honda     8.127032  1.866786  3.740065  2.261079  \n",
              "nissan    0.000000  2.018734  4.802831  2.445121  \n",
              "mercedes  2.018734  0.000000  6.340580  1.298027  \n",
              "volvo     4.802831  6.340580  0.000000  7.314100  \n",
              "subaru    2.445121  1.298027  7.314100  0.000000  "
            ]
          },
          "metadata": {},
          "execution_count": 17
        }
      ]
    },
    {
      "cell_type": "code",
      "metadata": {
        "id": "MxcoepI_slYr",
        "outputId": "53a0591b-9bbb-4199-e738-d787ca95b37b"
      },
      "source": [
        "sns.heatmap(brand_lifts)"
      ],
      "execution_count": null,
      "outputs": [
        {
          "output_type": "execute_result",
          "data": {
            "text/plain": [
              "<AxesSubplot:>"
            ]
          },
          "metadata": {},
          "execution_count": 18
        },
        {
          "output_type": "display_data",
          "data": {
            "image/png": "[encoded data removed]",
            "text/plain": [
              "<Figure size 432x288 with 2 Axes>"
            ]
          },
          "metadata": {
            "needs_background": "light"
          }
        }
      ]
    },
    {
      "cell_type": "markdown",
      "metadata": {
        "id": "qVaECWHJslYs"
      },
      "source": [
        "## Task D: Multi-Dimensional Scaling"
      ]
    },
    {
      "cell_type": "code",
      "metadata": {
        "id": "bB5sdtOxslYs"
      },
      "source": [
        "from sklearn.manifold import MDS\n",
        "from sklearn.preprocessing import MinMaxScaler"
      ],
      "execution_count": null,
      "outputs": []
    },
    {
      "cell_type": "code",
      "metadata": {
        "id": "4IV1AS_9slYt",
        "outputId": "ff2a0d82-7aec-417a-c2d3-9aaf7d8b35f6"
      },
      "source": [
        "# Create a dissimilarity matrix\n",
        "\n",
        "df_dis = 1/brand_lifts # Get dissimilarity matrix\n",
        "df_dis.values[[np.arange(df_dis.shape[0])]*2] = 0 # Make diagnols 0 so they aren't infinity"
      ],
      "execution_count": null,
      "outputs": [
        {
          "output_type": "stream",
          "name": "stderr",
          "text": [
            "<ipython-input-20-a9805b3d7c00>:4: FutureWarning: Using a non-tuple sequence for multidimensional indexing is deprecated; use `arr[tuple(seq)]` instead of `arr[seq]`. In the future this will be interpreted as an array index, `arr[np.array(seq)]`, which will result either in an error or a different result.\n",
            "  df_dis.values[[np.arange(df_dis.shape[0])]*2] = 0 # Make diagnols 0 so they aren't infinity\n"
          ]
        }
      ]
    },
    {
      "cell_type": "code",
      "metadata": {
        "id": "19OcXDVOslYu",
        "outputId": "454c35d0-62f0-4248-a1d8-c6e546f7fb89"
      },
      "source": [
        "# Condense above into two dimensions and plot. NEED TO MAKE GRAPH PRETTIER\n",
        "\n",
        "mds = MDS(2,random_state=0, dissimilarity=\"precomputed\")\n",
        "X_2d = mds.fit_transform(df_dis) # Condense into two dimensions\n",
        "\n",
        "x_vals, y_vals = X_2d[:,0],X_2d[:,1]\n",
        "\n",
        "fig, ax = plt.subplots(figsize=(8,8))\n",
        "ax.scatter(x_vals, y_vals)\n",
        "for i, txt in enumerate(top_10_brands):\n",
        "    ax.annotate(txt,\n",
        "                (x_vals[i]+.025,y_vals[i]+.01),\n",
        "                # fontdict=dict(color='blue'),\n",
        "                bbox=dict(facecolor='yellow',alpha=.6),\n",
        "                arrowprops = dict(arrowstyle = '->', connectionstyle = 'arc3,rad=0'))\n",
        "\n",
        "ax.set(title='2D Brand Similarity Representation', xlabel='X1', ylabel='X2')\n",
        "ax.set_xlim(x_vals.min()-.1, x_vals.max()+.2)\n",
        "ax.set_ylim(y_vals.min()-.1, y_vals.max()+.1)"
      ],
      "execution_count": null,
      "outputs": [
        {
          "output_type": "execute_result",
          "data": {
            "text/plain": [
              "(-0.3975682942041554, 0.38381282183243737)"
            ]
          },
          "metadata": {},
          "execution_count": 21
        },
        {
          "output_type": "display_data",
          "data": {
            "image/png": "[encoded data removed]",
            "text/plain": [
              "<Figure size 576x576 with 1 Axes>"
            ]
          },
          "metadata": {
            "needs_background": "light"
          }
        }
      ]
    },
    {
      "cell_type": "markdown",
      "metadata": {
        "id": "K91D59cqslYv"
      },
      "source": [
        "## Task E: Insights\n",
        "\n",
        "Based on the information we've seen so far, we can already begin to discover some interesting patterns between car brands.\n",
        " \n",
        " \n",
        "### Potentially interesting insights from Part C:\n",
        " \n",
        "The strongest associations are between Toyota and Nissan (6.14), Mercedes and Volvo (6.34), Volvo and Audi (6.48), Subaru and Volvo (7.31), Honda and Toyota (7.62), and Honda and Nissan (8.13). lLift values greater than 1 indicate that the two terms appear together more frequently than expected if there was no association. Take Honda and Nissan, for example. People are 8.13 times more likely to talk about Honda when discussing Nissan and vice versa. As a marketing analytics firm, J.D. Power and Associates can use this information to improve their clients’ marketing campaigns. For example, if a client were Nissan Motor Company, their marketing department could emphasize the superiority of certain attributes, such as safety or performance, of their brand when compared to their competitors, like Nissan and Honda. Understanding with which brands people most associate your car brand is crucial for designing effective marketing campaigns to gain a competitive advantage.\n",
        " \n",
        "According to the lift calculations Volvo is the brand that is mentioned the most with other top-10 brands with the highest total lift values and lifts over 3 for 7/9 brands. These findings indicate that Volvo seems to be the brand that is compared to the most regardless of luxury connotations. BMW does not get mentioned with other brands that often, but when it does it is with other luxury brands. The high lift values among the Japanese brands show that there may be more comparisons happening between Japanese brands specifically with Honda. These associations are supported in the MDS map.\n",
        " \n",
        "### Potentially interesting insights from Part D:\n",
        " \n",
        "The MDS map loosely groups the brands based on luxury status and manufacturing country. The European brands are on the lower half of the map with the Japanese brands in the upper half. The luxury group is on the left side with non-luxury on the right, though this pattern is not as clear as the country one. Of note Volvo is in the middle of the plot which matches the lift calculations which indicated that it is related to most of the other brands. Subaru is the only non-luxury Japanese brand that is not close to the other Japanese brands indicating that there is a distinct difference in the perception of Subaru and other Japanese brands. On another note, BMW has a clear separation from the rest of the brands in the MDS map, indicating that in the consumer mind BMW has certain aspects about its cars or its brand as a whole that separates it from the rest. Likely for BMW, a pure play luxury vehicle manufacturer, the separation indicates that BMW’s marketing campaign or brand advertising is causing consumers to think of BMW as a distinct brand with little substitutes. This is not surprising as BMW has consistently targeted high-end segments and defined every part of their brand as \"premium\" with great success.\n"
      ]
    },
    {
      "cell_type": "markdown",
      "metadata": {
        "id": "WRYF6R-vslYw"
      },
      "source": [
        "## Task F: Car Attributes"
      ]
    },
    {
      "cell_type": "markdown",
      "metadata": {
        "id": "gUl4mewQRpGG"
      },
      "source": [
        "The following features as the most frequently mentioned attributes: performance, luxury, engine, price, handling, and power. By examining the heatmap below, which plots the lift values of each car attribute against our top-10 brands, we can understand which attributes are associated with which brands. "
      ]
    },
    {
      "cell_type": "code",
      "metadata": {
        "id": "2isA9WJfslYw",
        "outputId": "5eb44af0-9fbd-486c-c267-5d6db8a78738"
      },
      "source": [
        "# We manually go through and pick out the top 5 car attributes.\n",
        "# These attributes are stored in an excel file which we read below.\n",
        "\n",
        "top_5_attributes =  pd.read_excel('attributes.xlsx',sheet_name='attributes')\n",
        "top_5_attributes = pd.Series(top_5_attributes['attributes']) # Actually more than 5 here because we picked like 14 first just to explore.\n",
        "top_5_attributes.iloc[:10]"
      ],
      "execution_count": null,
      "outputs": [
        {
          "output_type": "execute_result",
          "data": {
            "text/plain": [
              "0    performance\n",
              "1         luxury\n",
              "2         engine\n",
              "3          price\n",
              "4       handling\n",
              "Name: attributes, dtype: object"
            ]
          },
          "metadata": {},
          "execution_count": 25
        }
      ]
    },
    {
      "cell_type": "code",
      "metadata": {
        "id": "nWbhbyY8slYx",
        "outputId": "8e198c06-a816-4bc5-9742-d6cb8b547034"
      },
      "source": [
        "# Now calculate lifts of the top 5 attributes. \n",
        "attribute_lifts = calculate_lifts(list(top_5_attributes), top_10_brands, df_words).iloc[:6,] # Need to select top 5 with iloc because we included like 10 to just explore\n",
        "attribute_lifts"
      ],
      "execution_count": null,
      "outputs": [
        {
          "output_type": "execute_result",
          "data": {
            "text/html": [
              "<div>\n",
              "<style scoped>\n",
              "    .dataframe tbody tr th:only-of-type {\n",
              "        vertical-align: middle;\n",
              "    }\n",
              "\n",
              "    .dataframe tbody tr th {\n",
              "        vertical-align: top;\n",
              "    }\n",
              "\n",
              "    .dataframe thead th {\n",
              "        text-align: right;\n",
              "    }\n",
              "</style>\n",
              "<table border=\"1\" class=\"dataframe\">\n",
              "  <thead>\n",
              "    <tr style=\"text-align: right;\">\n",
              "      <th></th>\n",
              "      <th>bmw</th>\n",
              "      <th>acura</th>\n",
              "      <th>infiniti</th>\n",
              "      <th>audi</th>\n",
              "      <th>toyota</th>\n",
              "      <th>honda</th>\n",
              "      <th>nissan</th>\n",
              "      <th>mercedes</th>\n",
              "      <th>volvo</th>\n",
              "      <th>subaru</th>\n",
              "    </tr>\n",
              "  </thead>\n",
              "  <tbody>\n",
              "    <tr>\n",
              "      <th>performance</th>\n",
              "      <td>1.494735</td>\n",
              "      <td>1.703176</td>\n",
              "      <td>1.683563</td>\n",
              "      <td>1.602653</td>\n",
              "      <td>1.292577</td>\n",
              "      <td>1.429879</td>\n",
              "      <td>1.502085</td>\n",
              "      <td>1.002617</td>\n",
              "      <td>0.858993</td>\n",
              "      <td>1.633384</td>\n",
              "    </tr>\n",
              "    <tr>\n",
              "      <th>luxury</th>\n",
              "      <td>1.372851</td>\n",
              "      <td>2.186307</td>\n",
              "      <td>1.850232</td>\n",
              "      <td>1.879469</td>\n",
              "      <td>2.664196</td>\n",
              "      <td>2.114293</td>\n",
              "      <td>1.502482</td>\n",
              "      <td>1.950687</td>\n",
              "      <td>2.442599</td>\n",
              "      <td>4.515384</td>\n",
              "    </tr>\n",
              "    <tr>\n",
              "      <th>engine</th>\n",
              "      <td>1.557396</td>\n",
              "      <td>1.560691</td>\n",
              "      <td>1.517702</td>\n",
              "      <td>1.843318</td>\n",
              "      <td>1.781557</td>\n",
              "      <td>1.734305</td>\n",
              "      <td>2.210374</td>\n",
              "      <td>1.840118</td>\n",
              "      <td>0.901623</td>\n",
              "      <td>1.830398</td>\n",
              "    </tr>\n",
              "    <tr>\n",
              "      <th>price</th>\n",
              "      <td>1.627326</td>\n",
              "      <td>1.676727</td>\n",
              "      <td>1.721908</td>\n",
              "      <td>2.005975</td>\n",
              "      <td>1.633512</td>\n",
              "      <td>1.577566</td>\n",
              "      <td>1.160061</td>\n",
              "      <td>1.304121</td>\n",
              "      <td>1.428863</td>\n",
              "      <td>1.645386</td>\n",
              "    </tr>\n",
              "    <tr>\n",
              "      <th>handling</th>\n",
              "      <td>1.794032</td>\n",
              "      <td>1.346983</td>\n",
              "      <td>1.247505</td>\n",
              "      <td>1.420455</td>\n",
              "      <td>1.409472</td>\n",
              "      <td>1.400090</td>\n",
              "      <td>0.908430</td>\n",
              "      <td>1.718027</td>\n",
              "      <td>0.905797</td>\n",
              "      <td>0.608450</td>\n",
              "    </tr>\n",
              "    <tr>\n",
              "      <th>power</th>\n",
              "      <td>1.723908</td>\n",
              "      <td>1.665992</td>\n",
              "      <td>1.429502</td>\n",
              "      <td>1.929105</td>\n",
              "      <td>0.752003</td>\n",
              "      <td>1.782607</td>\n",
              "      <td>2.004812</td>\n",
              "      <td>1.197318</td>\n",
              "      <td>1.845231</td>\n",
              "      <td>2.107142</td>\n",
              "    </tr>\n",
              "  </tbody>\n",
              "</table>\n",
              "</div>"
            ],
            "text/plain": [
              "                  bmw     acura  infiniti      audi    toyota     honda  \\\n",
              "performance  1.494735  1.703176  1.683563  1.602653  1.292577  1.429879   \n",
              "luxury       1.372851  2.186307  1.850232  1.879469  2.664196  2.114293   \n",
              "engine       1.557396  1.560691  1.517702  1.843318  1.781557  1.734305   \n",
              "price        1.627326  1.676727  1.721908  2.005975  1.633512  1.577566   \n",
              "handling     1.794032  1.346983  1.247505  1.420455  1.409472  1.400090   \n",
              "power        1.723908  1.665992  1.429502  1.929105  0.752003  1.782607   \n",
              "\n",
              "               nissan  mercedes     volvo    subaru  \n",
              "performance  1.502085  1.002617  0.858993  1.633384  \n",
              "luxury       1.502482  1.950687  2.442599  4.515384  \n",
              "engine       2.210374  1.840118  0.901623  1.830398  \n",
              "price        1.160061  1.304121  1.428863  1.645386  \n",
              "handling     0.908430  1.718027  0.905797  0.608450  \n",
              "power        2.004812  1.197318  1.845231  2.107142  "
            ]
          },
          "metadata": {},
          "execution_count": 26
        }
      ]
    },
    {
      "cell_type": "code",
      "metadata": {
        "id": "GC4mH8w0slYx",
        "outputId": "42f109d8-ca89-4721-a14e-54aa34e45fde"
      },
      "source": [
        "sns.heatmap(attribute_lifts)"
      ],
      "execution_count": null,
      "outputs": [
        {
          "output_type": "execute_result",
          "data": {
            "text/plain": [
              "<AxesSubplot:>"
            ]
          },
          "metadata": {},
          "execution_count": 27
        },
        {
          "output_type": "display_data",
          "data": {
            "image/png": "[encoded data removed]",
            "text/plain": [
              "<Figure size 432x288 with 2 Axes>"
            ]
          },
          "metadata": {
            "needs_background": "light"
          }
        }
      ]
    },
    {
      "cell_type": "markdown",
      "metadata": {
        "id": "AMMVfJNYRzR1"
      },
      "source": [
        "Performance is most associated with Acura. Luxury is most associated with Subaru. The engine is most associated with Nissan. Price is most associated with Audi. Handling is most associated with BMW. Amongst the top-10 brands luxury seems to have the highest association with performance and handling having generally low associations on average. Volvo has the highest association with luxury, but it has no association with performance, engine, or handling."
      ]
    },
    {
      "cell_type": "markdown",
      "metadata": {
        "id": "V0PdXP_bR6cF"
      },
      "source": [
        "## Task G: Advice"
      ]
    },
    {
      "cell_type": "markdown",
      "metadata": {
        "id": "DQhTqNhrSWNF"
      },
      "source": [
        "* Subaru: This brand is highly associated with luxury and power. As Subaru is known for its affordable luxury sports cars and all-wheel drive SUVs, this is a good sign that consumer perception indicates that its brand mapping is working. However, Subaru is not associated with handling, which is a concern. Sports cars and all-wheel drive vehicles are generally considered to have robust handling and a large reason why people buy these cars in the first place. Subaru’s vehicles actually have good handling, but consumers do not associate the two (Lift: .61), so the marketing department must emphasize that point in their future campaigns. \n",
        "\n",
        "<br>\n",
        "\n",
        "* Volvo: For the most part this brand is known for its safety and reliability. Presumably this should indicate some associations with handling and the engine, but based on these lift values there is no association. Vovlo should concentrate more on what aspects contribute to their high safety and reliability ratings to appeal to these consumers. What Volvo is doing well is marketing its luxury aspect.\n",
        "\n",
        "<br>\n",
        "\n",
        "* Mercedes: While Mercedes is generally advertised for its “iconic performance brand”, the brand is 2nd to the bottom when associated with performance. Furthermore the association is not statistically different from the mere occurrence of the two words appearing together (Lift: 1). This is quite troubling that Mercedes advertising is failing to push the high performance of their vehicles, especially when it is one of their biggest selling factors. Furthermore, Mercedes has the lowest association with power, which may be a consequence of the previous issue. As a result, Mercedes must push not only luxury but also the performance and their superior engine technology of their vehicles in order to remain a market leader in the luxury car market where affluent consumers expect top-of-the-line vehicles. \n",
        "\n",
        "* Nissan: This brand is known for its eco-friendly technological innovation which can be seen its its high association with power and the engine. It is also supposed to be known for reliability but unfortunately the association with performance is not that great when compared to other brands and the association with handling is non-existent. Since those aspects are related to reliability Nissan should put more focus on highlighting features that improve performance and handling in an attempt to demonstrate that.\n",
        "\n",
        "* Honda: This brand is closely associated with Nissan and Toyota in the fact that they all are known for their economically friendly price, reliability and price. This can also be seen in the MDS map cluster where the measures of their similarity group them together. As a car manufacturer in a competitive market, Honda needs to differentiate itself from their close competitors. Between the three similar competitors, Honda has a similar association with a particular feature with at least one other brand. Consequently, if Honda wishes to reduce brand-switching, they need to completely revamp their marketing campaign and/or the validity of the important attributes that consumers consider important.\n",
        "\n",
        "* Toyota: This brand produces high-quality and reliable vehicles for a reasonable price. However, the association between Toyota and price is substantially below the brand’s product design. This is the absolute epitome of Toyota sales and consumer perception is reflecting poor reception of that brand mapping. Additionally, Toyota is closely related to both Honda and Nissan. Toyota must separate themselves from these manufacturers to prevent brand-switching, which can be done through highlighting its strengths over its competitors. Based on this analysis, Toyota must explicitly highlight the advantageous price aspects of its vehicles such as: long-life, high resale value, reliability, and lower than average price. \n",
        "\n",
        "* Audi: This luxury brand is doing a good job marketing its luxury component as well as its technical component with high associations in the engine and power. This makes sense since they have an emphasis on quality and technology. It had moderately high associations in the other top attributes, performance and handling. The lowest association is in handling which when compared to other brands still sits well within the high-middle area. In general Audi is doing well overall when compared to other brands and as such should continue what they are doing.\n",
        "\n",
        "* Infiniti: This brand is doing a good job in distinguishing its luxury aspect over its counterpart Nissan. It also carries a higher association with performance and handling. Although when compared to other luxury brands Infiniti falls behind in pretty much every attribute. This indicates at the company level Nissan is doing a good job separating their two divisions, but it does not stand out over other luxury brands. They should focusing on increasing their associations with the other top attributes to be more competitive amongst luxury vehicles.\n",
        "\n",
        "* Acura: This brand is supposed to be the luxury version of Honda and as such they should have lift values that convey this. Based on these values the only thing Acura is more known for over Honda is performance and luxury, and with luxury the difference seems minimal (Honda: 2.11, Acura: 2.18). Since they are owned by the same company Acura needs to focus more on marketing their luxury component since if their luxury association is basically the same as the non-luxury brand people might as well go with the brand with higher associations in other attributes.\n",
        "\n",
        "* BMW: There seems to be a perception of a quality driving experience with BMW boasting high associations with handling and power. Based on their marketing and company description they want to emphasise performance and luxury which is not coming through. If they want to foster this perception they should make more of an effort to emphasize their performance and luxury.\n",
        "\n",
        "* Assuming that all the sentiments are positive in our analysis, the brands that have the strongest association with each feature, mentioned in part F, likely have either a strong marketing campaign or the brands cars truly have the best feature across the brands mentioned, at least in consumer minds. Furthermore, the features found have the highest frequency in the Edmunds discussion forum. Therefore, if we assume that consumers only discuss these attributes because they care about them when purchasing a car, it can be concluded that car manufacturers and marketing departments should focus on one or more of these topics when designing a car or campaign. If a brand, e.g. Acura, has a strong association with a feature, e.g. performance, then the brand should push that strength in their respective design and campaigns. Although, if a brand, e.g. Toyota, has very low association with a feature, e.g. power, that is important to insert into consumer perception, the brand should push marketing campaigns that emphasize that particular feature to change perception. \n"
      ]
    },
    {
      "cell_type": "markdown",
      "metadata": {
        "id": "s5mpmdmZslYy"
      },
      "source": [
        "## Task H: Aspirational Brands"
      ]
    },
    {
      "cell_type": "markdown",
      "metadata": {
        "id": "olUOZ4cx_6Qe"
      },
      "source": [
        "We have identified the Subaru brand as the most aspirational. To conduct this analysis, we identified several two-word phrases that we felt indicated aspirational desires on the part of the forum commenters. You can see the aspirational phrases below:"
      ]
    },
    {
      "cell_type": "code",
      "metadata": {
        "id": "N9BMXAETslYz",
        "outputId": "823792ce-cf7c-4c3a-8e0b-8c5e014aa45e"
      },
      "source": [
        "aspirational_words =  pd.read_excel('attributes.xlsx',sheet_name='aspirational')\n",
        "aspirational_words = pd.Series(aspirational_words['aspirational'])\n",
        "aspirational_words"
      ],
      "execution_count": null,
      "outputs": [
        {
          "output_type": "execute_result",
          "data": {
            "text/plain": [
              "0    would love\n",
              "1       love to\n",
              "2      dream of\n",
              "3       hope to\n",
              "4        aim to\n",
              "5      dream to\n",
              "6     desire to\n",
              "7     aspire to\n",
              "Name: aspirational, dtype: object"
            ]
          },
          "metadata": {},
          "execution_count": 28
        }
      ]
    },
    {
      "cell_type": "markdown",
      "metadata": {
        "id": "At7G7xFKAFwB"
      },
      "source": [
        "To discover which brands are associated with these phrases, we went back through each of the comments posted by edmunds’ forum users and replaced all of the aspirational phrases with the word “aspirational”. After this was done, we were able to conduct a lift analysis between the “aspirational” and our top 10 brands, similar to what we did with attributes. Our methodology and results are displayed below."
      ]
    },
    {
      "cell_type": "code",
      "metadata": {
        "id": "R6u8a7PLslYz",
        "outputId": "6f28575a-bf1f-4ef0-c6d6-9ab65812d332"
      },
      "source": [
        "# Create regex pattern that is used to find all aspiraitonal phrases in each comment.\n",
        "regex_pattern = '(' + '|'.join(aspirational_words) + ')'\n",
        "regex_pattern"
      ],
      "execution_count": null,
      "outputs": [
        {
          "output_type": "execute_result",
          "data": {
            "text/plain": [
              "'(would love|love to|dream of|hope to|aim to|dream to|desire to|aspire to)'"
            ]
          },
          "metadata": {},
          "execution_count": 29
        }
      ]
    },
    {
      "cell_type": "code",
      "metadata": {
        "id": "TTV6Tzc9slY0"
      },
      "source": [
        "# We replace all of our aspiraitonal phrases with the word 'aspirational' we do this by using a regex on the cleaned comments first\n",
        "# Then we send this new cleaned comments list to our clean comment function that replaces brands with models and removes stop words\n",
        "df['clean_comments_no_models_aspirational'] = clean_comment_list(df.cleaned_comments.str.replace(regex_pattern,'aspirational',regex=True))"
      ],
      "execution_count": null,
      "outputs": []
    },
    {
      "cell_type": "code",
      "metadata": {
        "id": "tCWjHtCislY0",
        "outputId": "073c45dd-b968-461f-af3e-6d689413c699"
      },
      "source": [
        "# We need to create another datafram like df_words, but that accounts for our adjusted aspirational phrases\n",
        "\n",
        "# Create df of zeroes with words as columns and rows are comments\n",
        "words_to_track = list(top_10_brands) + ['aspirational'] # Except this time, we won't get counts of every word. Just the ones we care about.\n",
        "df_words_aspirational = pd.DataFrame(np.zeros((len(df), len(words_to_track))))\n",
        "df_words_aspirational.columns = words_to_track\n",
        "\n",
        "# Now fill it in\n",
        "for index, comment in enumerate(df['clean_comments_no_models_aspirational']):\n",
        "    word_list = word_tokenize(comment)\n",
        "    for word in words_to_track:\n",
        "        if word in word_list:\n",
        "            df_words_aspirational.loc[index,word] = 1\n",
        "\n",
        "# df_words_aspirational.head()"
      ],
      "execution_count": null,
      "outputs": [
        {
          "output_type": "execute_result",
          "data": {
            "text/html": [
              "<div>\n",
              "<style scoped>\n",
              "    .dataframe tbody tr th:only-of-type {\n",
              "        vertical-align: middle;\n",
              "    }\n",
              "\n",
              "    .dataframe tbody tr th {\n",
              "        vertical-align: top;\n",
              "    }\n",
              "\n",
              "    .dataframe thead th {\n",
              "        text-align: right;\n",
              "    }\n",
              "</style>\n",
              "<table border=\"1\" class=\"dataframe\">\n",
              "  <thead>\n",
              "    <tr style=\"text-align: right;\">\n",
              "      <th></th>\n",
              "      <th>bmw</th>\n",
              "      <th>acura</th>\n",
              "      <th>infiniti</th>\n",
              "      <th>audi</th>\n",
              "      <th>toyota</th>\n",
              "      <th>honda</th>\n",
              "      <th>nissan</th>\n",
              "      <th>mercedes</th>\n",
              "      <th>volvo</th>\n",
              "      <th>subaru</th>\n",
              "      <th>aspirational</th>\n",
              "    </tr>\n",
              "  </thead>\n",
              "  <tbody>\n",
              "    <tr>\n",
              "      <th>0</th>\n",
              "      <td>1.0</td>\n",
              "      <td>1.0</td>\n",
              "      <td>0.0</td>\n",
              "      <td>1.0</td>\n",
              "      <td>1.0</td>\n",
              "      <td>0.0</td>\n",
              "      <td>0.0</td>\n",
              "      <td>1.0</td>\n",
              "      <td>0.0</td>\n",
              "      <td>0.0</td>\n",
              "      <td>0.0</td>\n",
              "    </tr>\n",
              "    <tr>\n",
              "      <th>1</th>\n",
              "      <td>0.0</td>\n",
              "      <td>1.0</td>\n",
              "      <td>0.0</td>\n",
              "      <td>0.0</td>\n",
              "      <td>0.0</td>\n",
              "      <td>1.0</td>\n",
              "      <td>0.0</td>\n",
              "      <td>0.0</td>\n",
              "      <td>0.0</td>\n",
              "      <td>0.0</td>\n",
              "      <td>0.0</td>\n",
              "    </tr>\n",
              "    <tr>\n",
              "      <th>2</th>\n",
              "      <td>0.0</td>\n",
              "      <td>0.0</td>\n",
              "      <td>0.0</td>\n",
              "      <td>0.0</td>\n",
              "      <td>0.0</td>\n",
              "      <td>0.0</td>\n",
              "      <td>0.0</td>\n",
              "      <td>0.0</td>\n",
              "      <td>0.0</td>\n",
              "      <td>0.0</td>\n",
              "      <td>0.0</td>\n",
              "    </tr>\n",
              "    <tr>\n",
              "      <th>3</th>\n",
              "      <td>0.0</td>\n",
              "      <td>0.0</td>\n",
              "      <td>0.0</td>\n",
              "      <td>0.0</td>\n",
              "      <td>0.0</td>\n",
              "      <td>0.0</td>\n",
              "      <td>0.0</td>\n",
              "      <td>0.0</td>\n",
              "      <td>0.0</td>\n",
              "      <td>0.0</td>\n",
              "      <td>0.0</td>\n",
              "    </tr>\n",
              "    <tr>\n",
              "      <th>4</th>\n",
              "      <td>1.0</td>\n",
              "      <td>0.0</td>\n",
              "      <td>0.0</td>\n",
              "      <td>0.0</td>\n",
              "      <td>0.0</td>\n",
              "      <td>0.0</td>\n",
              "      <td>0.0</td>\n",
              "      <td>0.0</td>\n",
              "      <td>0.0</td>\n",
              "      <td>0.0</td>\n",
              "      <td>0.0</td>\n",
              "    </tr>\n",
              "  </tbody>\n",
              "</table>\n",
              "</div>"
            ],
            "text/plain": [
              "   bmw  acura  infiniti  audi  toyota  honda  nissan  mercedes  volvo  subaru  \\\n",
              "0  1.0    1.0       0.0   1.0     1.0    0.0     0.0       1.0    0.0     0.0   \n",
              "1  0.0    1.0       0.0   0.0     0.0    1.0     0.0       0.0    0.0     0.0   \n",
              "2  0.0    0.0       0.0   0.0     0.0    0.0     0.0       0.0    0.0     0.0   \n",
              "3  0.0    0.0       0.0   0.0     0.0    0.0     0.0       0.0    0.0     0.0   \n",
              "4  1.0    0.0       0.0   0.0     0.0    0.0     0.0       0.0    0.0     0.0   \n",
              "\n",
              "   aspirational  \n",
              "0           0.0  \n",
              "1           0.0  \n",
              "2           0.0  \n",
              "3           0.0  \n",
              "4           0.0  "
            ]
          },
          "metadata": {},
          "execution_count": 31
        }
      ]
    },
    {
      "cell_type": "code",
      "metadata": {
        "id": "63oNnaWJslY0",
        "outputId": "91b84192-da2c-4286-afe4-b0db64b2d9ca"
      },
      "source": [
        "aspirational_lifts = calculate_lifts(['aspirational'], list(top_10_brands), df_words_aspirational)\n",
        "aspirational_lifts"
      ],
      "execution_count": null,
      "outputs": [
        {
          "output_type": "execute_result",
          "data": {
            "text/html": [
              "<div>\n",
              "<style scoped>\n",
              "    .dataframe tbody tr th:only-of-type {\n",
              "        vertical-align: middle;\n",
              "    }\n",
              "\n",
              "    .dataframe tbody tr th {\n",
              "        vertical-align: top;\n",
              "    }\n",
              "\n",
              "    .dataframe thead th {\n",
              "        text-align: right;\n",
              "    }\n",
              "</style>\n",
              "<table border=\"1\" class=\"dataframe\">\n",
              "  <thead>\n",
              "    <tr style=\"text-align: right;\">\n",
              "      <th></th>\n",
              "      <th>bmw</th>\n",
              "      <th>acura</th>\n",
              "      <th>infiniti</th>\n",
              "      <th>audi</th>\n",
              "      <th>toyota</th>\n",
              "      <th>honda</th>\n",
              "      <th>nissan</th>\n",
              "      <th>mercedes</th>\n",
              "      <th>volvo</th>\n",
              "      <th>subaru</th>\n",
              "    </tr>\n",
              "  </thead>\n",
              "  <tbody>\n",
              "    <tr>\n",
              "      <th>aspirational</th>\n",
              "      <td>1.466471</td>\n",
              "      <td>1.32626</td>\n",
              "      <td>1.61216</td>\n",
              "      <td>0.839161</td>\n",
              "      <td>0.396511</td>\n",
              "      <td>0.82713</td>\n",
              "      <td>0.0</td>\n",
              "      <td>0.0</td>\n",
              "      <td>1.337793</td>\n",
              "      <td>2.156722</td>\n",
              "    </tr>\n",
              "  </tbody>\n",
              "</table>\n",
              "</div>"
            ],
            "text/plain": [
              "                   bmw    acura  infiniti      audi    toyota    honda  \\\n",
              "aspirational  1.466471  1.32626   1.61216  0.839161  0.396511  0.82713   \n",
              "\n",
              "              nissan  mercedes     volvo    subaru  \n",
              "aspirational     0.0       0.0  1.337793  2.156722  "
            ]
          },
          "metadata": {},
          "execution_count": 32
        }
      ]
    },
    {
      "cell_type": "code",
      "metadata": {
        "id": "tcoeZXkrslY1",
        "outputId": "b4f65bbc-dc51-4d7c-8c4d-8ea05fb55438"
      },
      "source": [
        "sns.heatmap(aspirational_lifts)"
      ],
      "execution_count": null,
      "outputs": [
        {
          "output_type": "execute_result",
          "data": {
            "text/plain": [
              "<AxesSubplot:>"
            ]
          },
          "metadata": {},
          "execution_count": 33
        },
        {
          "output_type": "display_data",
          "data": {
            "image/png": "[encoded data removed]",
            "text/plain": [
              "<Figure size 432x288 with 2 Axes>"
            ]
          },
          "metadata": {
            "needs_background": "light"
          }
        }
      ]
    },
    {
      "cell_type": "markdown",
      "metadata": {
        "id": "vi2KsX-PZPPR"
      },
      "source": [
        "It’s clear from the above lift values and heatmap that Subaru has the highest association with aspiration by a sizable margin. This is followed by Infiniti, BMW, Acura, and Volvo which all have lift values greater than one. Audi, Toyota, Honda, Mercedes and Nissan showed no significant associations with the aspirations of consumers.\n",
        "\n",
        "\n",
        "Despite having relatively moderate associations with the previously explored, practical attributes, Subaru is still the brand that has the highest aspirational associations among forum posters on edmunds. This can be an indicator that users in general are more interested in luxury for a good price over performance or it can be seen as a testament to the marketing of the Subaru that despite its moderate association with desirable qualities people still want that brand. An extreme version of this can be seen with Volvo since it basically has no association with most of the top qualities, yet it still has a relatively high aspiration association. In general it seems that most users are aspiring for luxury over other practical attributes.\n",
        "\n",
        "On the other side, brands like Nissan and Mercades have moderate associations with these attributes with no association with aspiration. Of the brands with no or little association with aspirations the Japanese brands not associated with luxury are included which is to be expected, but two out of three of the German luxury brands also make this list. This indicates that these German brands are not marketing themselves properly.\n",
        "\n",
        "Overall when comparing the brand’s relative associations with the most mentioned attributes and their aspiration the biggest winners seem to be Subaru and Volvo with the biggest losers being Mercedes and Nissan. Mercedes being worse off since they are considered a luxury brand.\n",
        "\n",
        "Another potential business implication for Subaru is that many people may want to buy the vehicle, as indicated by high aspirational associations, but do not feel they can currently afford the vehicle. This may indicate that there is substantial “springiness” in Subaru's demand curve and that by lowering the price of Subaru vehicles, sales volumes would increase by more than enough to offset the loss in per unit profit. In economic terms, Subaru’s demand is potentially highly elastic, where a 1% decrease in price would result in a larger than 1% increase in quantity sold.\n",
        "\n",
        "\n"
      ]
    }
  ]
}